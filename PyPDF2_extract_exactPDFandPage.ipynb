{
 "cells": [
  {
   "cell_type": "code",
   "execution_count": 1,
   "metadata": {},
   "outputs": [],
   "source": [
    "import PyPDF2 "
   ]
  },
  {
   "cell_type": "code",
   "execution_count": 5,
   "metadata": {},
   "outputs": [
    {
     "name": "stdout",
     "output_type": "stream",
     "text": [
      "106\n",
      "Page No. 1 2 3 4 5 6 7 8 9 10 11 12 13 14 15 16 17 18 19 20 \n",
      "Rev. No. 71 61 57 56 54 57 54 56 60 54 56 67 65 63 61 56 57 67 67 57 \n",
      "Page No. 21 22 23 24 25 26 27 28 29 30 31 32 33 34 35 36 37 38 39 40 \n",
      "Rev No. 67 54 54 54 57 70 71 65 71 63 65 66 66 65 67 62 71 62 61 65 \n",
      "Page No. 41 42 43 44 45 46 47 48 49 50 51 52 53 54 55 56 57 58 59 60 \n",
      "Rev No. 62 71 65 65 62 68 62 67 65 71 63 63 65 62 65 62 67 71 65 62 \n",
      "Page No. 61 62 63 64 65 66 67 68 69 70 71 72 73 74 75 76 77 78 79 80 \n",
      "Rev No. 64 67 62 67 71 62 65 63 69 69 71 67 67 67 67 67 67 67 67 71 \n",
      "Page No. 81 82 83 84 85 86 87 88 89 90 91 92 93 94 95 96 97 98 99 100 \n",
      "Rev No. 71 67 67 67 67 68 67 68 67 67 67 67 67 67 67 67 67 67 67 67 \n",
      "Page No. 101 102 103 104 105 106               \n",
      "Rev No. 67 67 71 71 71 71               \n",
      " DEPARTMENT OF TRANSPORTATION FEDERAL AVIATION ADMINISTRATION A16WE Revision  71 \n",
      "BOEING \n",
      "737-100 Series \n",
      "737-200 Series \n",
      "737-200C Series \n",
      "737-300 Series \n",
      "737-400 Series \n",
      "737-500 Series \n",
      "737-700 Series \n",
      "737-800 Series \n",
      "737-600 Series \n",
      "737-700C Series \n",
      "737-900 Series \n",
      "737-900ER Series \n",
      "737-8 \n",
      "737-9 \n",
      "737-8200 \n",
      "Date  July 12, 2022 \n",
      " TYPE CERTIFICATE DATA SHEET A16WE \n",
      " \n",
      "This data sheet, which is part of Type Certificate No. A16WE, prescribes conditions and limitations under which the product for  which the type certificate was issued meets the airwor thiness requirements of the Federal Aviation Regulations.  Type Certificate Holder:   The Boeing Company  737 Logan Ave N  Renton, WA  98057-0000 \n",
      " \n",
      "I - Model 737-100 (Approved December 15, 1967) Transport Aircraft  \n",
      " \n",
      "Engines: 2 Pratt and Whitney Turbofan Engines JT8D-7, JT 8D-7A, JT8D-7B, JT8D-9, JT8D-9A, and JT8D-15; refer to the FAA Approved Airplane Flight Manual for aircraft engine and engine intermix eligibility.  (Engine Type Certificate No. E2EA)  Fuel: See NOTE 4 for authorized types of fuel.  Engine Ratings:  Takeoff static thrust Maximum continuous static   standard day, sea leve l thrust, standard day,   conditions (5 min.) lb. sea level conditions lb. \n",
      " JT8D-7, -7A, -7B 14,000 12,600  JT8D-9, -9A 14,500 12,600  JT8D-15 15,500 13,700 \n",
      " \n",
      "Engine and Weight Limits:   For engine operating limits see engine Type Certificate Data Sheet No. E2EA or the FAA Approved Airplane Flight Manual.  Thrust Setting: The appropriate EPR thrust setting curve (EPR  or PT 7), in the FAA Approved Airplane Flight Manual of AFM Appendices must be used for control of engine thrust.  Airspeed Limits: See the appropriate FAA Approved Airplane Flight Manual listed in NOTE 2.  C.G. Range: See the appropriate FAA Approved Airplane Flight Manual listed in NOTE 2.   \n"
     ]
    }
   ],
   "source": [
    "pdfopen = open('/Users/poth/Downloads/PDFEX/A16WE_Rev71.pdf', 'rb')\n",
    "pdfReader = PyPDF2.PdfFileReader(pdfopen, strict = False)\n",
    "print(pdfReader.numPages)\n",
    "pageObj = pdfReader.getPage(0)\n",
    "print(pageObj.extractText())"
   ]
  },
  {
   "cell_type": "code",
   "execution_count": null,
   "metadata": {},
   "outputs": [],
   "source": []
  }
 ],
 "metadata": {
  "kernelspec": {
   "display_name": "Python 3",
   "language": "python",
   "name": "python3"
  },
  "language_info": {
   "codemirror_mode": {
    "name": "ipython",
    "version": 3
   },
   "file_extension": ".py",
   "mimetype": "text/x-python",
   "name": "python",
   "nbconvert_exporter": "python",
   "pygments_lexer": "ipython3",
   "version": "3.6.13"
  }
 },
 "nbformat": 4,
 "nbformat_minor": 4
}
