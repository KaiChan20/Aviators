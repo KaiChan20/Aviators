{
 "cells": [
  {
   "cell_type": "code",
   "execution_count": 1,
   "id": "1d91583d",
   "metadata": {},
   "outputs": [],
   "source": [
    "import pytesseract as tess\n",
    "from PIL import Image\n",
    "from skimage import io\n",
    "from skimage.color import rgb2gray\n",
    "from skimage.transform import rotate\n",
    "\n",
    "\n",
    "#install tesseract from https://github.com/UB-Mannheim/tesseract/wiki \n",
    "# copy the path and paste it in the below command after installing the .exe file\n",
    "\n",
    "tess.pytesseract.tesseract_cmd=r'C:\\Program Files\\Tesseract-OCR\\tesseract.exe'"
   ]
  },
  {
   "cell_type": "code",
   "execution_count": 2,
   "id": "6c01c471",
   "metadata": {},
   "outputs": [
    {
     "name": "stdout",
     "output_type": "stream",
     "text": [
      "MODELS: Waco ZGC-7 (Army UC-7\n",
      "T.C. NUMBER: ATC 627\n",
      "Engine\n",
      "\n",
      "Placard limits\n",
      "Propeller\n",
      "Placard speeds\n",
      "\n",
      "Fuel capacity\n",
      "\n",
      "Cil capacity\n",
      "No. passengers\n",
      "Baggage\n",
      "\n",
      "Standard weight\n",
      "\n",
      "c.G. limits\n",
      "\n",
      "Datum\n",
      "\n",
      "Leveling means\n",
      "Specification basis\n",
      "Serial numbers\n",
      "\n",
      "EQUIPMENT:\n",
      "{* Means net increase)\n",
      "\n",
      "Class I:\n",
      "101. Engine ring cowl\n",
      "102. Landing lights (\n",
      "103. Starter (direct-\n",
      "104. Battery (Reading\n",
      "\n",
      "2E), 5 PCLB\n",
      "\n",
      "Jacobs L-5, L-5M (magneto ignition) or L-5MB (magneto\n",
      "and battery ignition)\n",
      "\n",
      "For all operations, 2000 rpm (285 hp)\n",
      "\n",
      "Maximum permissible diameter 103 inches (for clearance)\n",
      "\n",
      "Level flight or climb - 158 mph True Ind.\n",
      "\n",
      "Glide or dive - 214 mph True Ind.\n",
      "\n",
      "Flaps extended - 100 mph True Ind.\n",
      "\n",
      "70 gallons (two tanks, one in each wing at 35 gallons)\n",
      "(-14)\n",
      "\n",
      "5 galions (-50)\n",
      "\n",
      "4 (front (-13), rear (+22))}\n",
      "\n",
      "Passenger type - 100 lbs. (+52)\n",
      "\n",
      "Cargo type ~ 800 lbs. (See Item 203)\n",
      "\n",
      "3500 lbs. (Serial numbers 4550 thru 4559)\n",
      "\n",
      "3800 lbs. (Serial numbers 4560 and up. Serial\n",
      "numbers 4550 thru 4559 eligible upon receipt\n",
      "of manufacturer's affidavit of conformity.)\n",
      "\n",
      "(-18.9) and (-6.0)\n",
      "\n",
      "Lower wing leading edge\n",
      "\n",
      "Lower surface upper wing at strut points\n",
      "\n",
      "Approved Type Certificate No. 627\n",
      "\n",
      "4550 and up manufactured prior to 9/30/39 and all AAF\n",
      "numbers eligible. Use manufacturer's number when\n",
      "available. Approval expired as of 97/730739.\n",
      "\n",
      "29 lbs.\n",
      "Grimes retractable) 11 lbs.\n",
      "electric) 20 lbs.\n",
      "ARL- 11) 35 lbs. (-59)\n",
      "\n"
     ]
    },
    {
     "data": {
      "image/png": "[encoded data removed]",
      "text/plain": [
       "<Figure size 432x288 with 1 Axes>"
      ]
     },
     "metadata": {
      "needs_background": "light"
     },
     "output_type": "display_data"
    }
   ],
   "source": [
    "img = Image.open(\"s1.jpg\")\n",
    "text = tess.image_to_string(img)\n",
    "print(text)\n",
    "io.imshow('s1.jpg')\n",
    "io.show()"
   ]
  },
  {
   "cell_type": "code",
   "execution_count": 3,
   "id": "db945f84",
   "metadata": {},
   "outputs": [
    {
     "name": "stdout",
     "output_type": "stream",
     "text": [
      "105. Heater and ventilator\n",
      "106. Wheel cuffs\n",
      "107. 7.50-10 wheels (Hayes 750M hydraulic)\n",
      "with 7.50-10 tubes and 8.50-10 tires)\n",
      "(Wheels must be placarded for tnese\n",
      "tires.)\n",
      "108. 10.5 inch streamline tail wheel\n",
      "109. Throw-over type control column\n",
      "110. Generator (Eclipse LV-180) 18 lrs.\n",
      "111. Standard paint (gunmetal gray)\n",
      "112. Oil cooler (Drawing 20965)\n",
      "113. Propeller - fixed pitch metal\n",
      "(Curtiss 55501) 55 lbs. (-92)\n",
      "\n",
      "Class II:\n",
      "200. Miscellaneous items as noted in\n",
      "approved weight and balance report.\n",
      "\n",
      "201. Air Corps type litter 25 lbs. (+72)\n",
      "202. Parachute seats - rear 41 1lbs.* (#27)\n",
      "203. Cargo type with cargo compartment\n",
      "\n",
      "and large baggage door (See NOTE 2) 36 lbs. *\n",
      "\n",
      "Class III;\n",
      "301. (a) 95 gallon fuel capacity (two tanks\n",
      "at 47-1/2 gallons each) 18 lbs.* (-14)\n",
      "(b) Additional 25 gallon fuel tank\n",
      "installed under rear seat (including\n",
      "gage and wobble pump) (eligible as\n",
      "\n",
      "4-place type only) 23 lbs. (+9)\n",
      "\n",
      "302. 6 or 7-1/2 gallon oil capacity (-50)\n",
      "\n",
      "303. Wheel streamlines 22 lbs. (+27)\n",
      "304. (a) Leather upholstery 12 lbs. (0)\n",
      "(b) Leather seats 5 lbs. (0)\n",
      "\n",
      "305. Engine shielding 11 lbs. (-68)\n",
      "\n",
      "306. Radio equipment\n",
      "(a) 94 lbs. provided C.G. of instal-\n",
      "lation is between (-19) and (+41)\n",
      "or\n",
      "(rE) 56 lbs. between (-19) ard (+52) anda\n",
      "38 lks. between (-19) and (#25)\n",
      "\n",
      "307. Special pairt (+17)\n",
      "(a) Aluminum No weight change\n",
      "(b) Blue 7 lbs. *\n",
      "(c) Black 36 lbs. *\n",
      "(d) Vermillion 40 lbs. *\n",
      "(e) White 48 lbs. *\n",
      "(f) French grey 51 1lbs.*\n",
      "308. Cactus-proof tubes 12 lbs. * (+27)\n",
      "309. Miscellaneous extra instruments 25 lbs. (~43)\n",
      "\n",
      "310. Pressure fire extinguisher\n",
      "(a) 15 lbs. (-45) or,\n",
      "(b) 19 lbs. (#7) (tank under rear seat)\n",
      "\n",
      "311. Tail wheel lock Neglect weight increase\n",
      "312. Flares (three 1-1/2 minute, electric) 17 lbs. (+78)\n",
      "313. Parachute seats - front\n",
      "(Waco~Switlik) 30 lbs.* (+13)\n",
      "314. Extra door and wing walk 16 lks. * (+19)\n",
      "315. \"Y\" type control column 4 lbs.* (-33)\n",
      "316. Propeller\n",
      "(a) Wood (fixed pitch) Net decrease 9 lbs. (-92)\n",
      "\n",
      "(b) Hamilton Standard hub 2B20, blades\n",
      "6135A~9 or 6135A-10. Diameter\n",
      "\n",
      "8*3~-1/8\" maximum, 8'7/8\" minimum. 50 lbs.* (7-92)\n",
      "317. Large generator (Eclipse D-2) 26 lbs. (755)\n",
      "318. Large starter (-55)\n",
      "319. Large battery (Reading AR-9) 15 lbs. * (-59)\n",
      "320. Vacuum pump 4 lbs. (53)\n",
      "321. Precision litter (carried in baggage\n",
      "\n",
      "compartment as baggage) 25 lbs.\n",
      "\n",
      "322. Skis Use actual weight change\n",
      "\n",
      "(a) Grab and Smith or Wien GS-1\n",
      "\n",
      "NOTE 1. Eligible for export as follows, subject to inspection for equipment\n",
      "specified in Chapter XII of Inspection Handbook (9730739) ;\n",
      "(a) Canada\n",
      "- Landplane\n",
      "- Skiplane - not eligible. However, structure complies with Canadian\n",
      "requirements for ski installation. Maximum ski height 14-1/2 inches,\n",
      "maximum tread 97-1/2 inches.\n",
      "(6b) All other countries.\n",
      "\n"
     ]
    },
    {
     "data": {
      "image/png": "[encoded data removed]",
      "text/plain": [
       "<Figure size 432x288 with 1 Axes>"
      ]
     },
     "metadata": {
      "needs_background": "light"
     },
     "output_type": "display_data"
    }
   ],
   "source": [
    "img = Image.open(\"s2.jpg\")\n",
    "text = tess.image_to_string(img)\n",
    "print(text)\n",
    "io.imshow('s2.jpg')\n",
    "io.show()"
   ]
  },
  {
   "cell_type": "code",
   "execution_count": 4,
   "id": "839ae339",
   "metadata": {},
   "outputs": [
    {
     "name": "stdout",
     "output_type": "stream",
     "text": [
      "NOTE 2. Weight and balance report including list of equipment included in\n",
      "certificated weight empty, and loading instructions when necessary, must\n",
      "be submitted for each cargo type aircraft with original inspector's report\n",
      "and each subsequent report covering changes in Class I or Class II equipment.\n",
      "\n"
     ]
    },
    {
     "name": "stderr",
     "output_type": "stream",
     "text": [
      "C:\\Users\\user\\anaconda3\\lib\\site-packages\\skimage\\io\\_plugins\\matplotlib_plugin.py:150: UserWarning: Low image data range; displaying image with stretched contrast.\n",
      "  lo, hi, cmap = _get_display_range(image)\n"
     ]
    },
    {
     "data": {
      "image/png": "[encoded data removed]",
      "text/plain": [
       "<Figure size 432x288 with 2 Axes>"
      ]
     },
     "metadata": {
      "needs_background": "light"
     },
     "output_type": "display_data"
    }
   ],
   "source": [
    "img = Image.open(\"s3.jpg\")\n",
    "text = tess.image_to_string(img)\n",
    "print(text)\n",
    "io.imshow('s3.jpg')\n",
    "io.show()"
   ]
  }
 ],
 "metadata": {
  "kernelspec": {
   "display_name": "Python 3",
   "language": "python",
   "name": "python3"
  },
  "language_info": {
   "codemirror_mode": {
    "name": "ipython",
    "version": 3
   },
   "file_extension": ".py",
   "mimetype": "text/x-python",
   "name": "python",
   "nbconvert_exporter": "python",
   "pygments_lexer": "ipython3",
   "version": "3.8.8"
  }
 },
 "nbformat": 4,
 "nbformat_minor": 5
}
