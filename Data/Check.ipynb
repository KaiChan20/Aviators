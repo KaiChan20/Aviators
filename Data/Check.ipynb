{
 "cells": [
  {
   "cell_type": "code",
   "execution_count": 1,
   "metadata": {},
   "outputs": [],
   "source": [
    "import glob, os\n",
    "import PyPDF2\n",
    "import fitz\n",
    "import pandas as pd\n"
   ]
  },
  {
   "cell_type": "code",
   "execution_count": 2,
   "metadata": {},
   "outputs": [],
   "source": [
    "os.chdir(os.getcwd())\n",
    "path = input(\"Enter the path from your directory: \")"
   ]
  },
  {
   "cell_type": "code",
   "execution_count": null,
   "metadata": {},
   "outputs": [],
   "source": [
    "def get_text_percentage(file_name: str) -> float:\n",
    "    \"\"\"\n",
    "    Calculate the percentage of document that is covered by (searchable) text.\n",
    "\n",
    "    If the returned percentage of text is very low, the document is\n",
    "    most likely a scanned PDF\n",
    "    \"\"\"\n",
    "    total_page_area = 0.0\n",
    "    total_text_area = 0.0\n",
    "\n",
    "    doc = fitz.open(file_name)\n",
    "\n",
    "    for page_num, page in enumerate(doc):\n",
    "        total_page_area = total_page_area + abs(page.rect)\n",
    "        text_area = 0.0\n",
    "        for b in page.get_text_blocks():\n",
    "            r = fitz.Rect(b[:4])  # rectangle where block text appears\n",
    "            text_area = text_area + abs(r)\n",
    "        total_text_area = total_text_area + text_area\n",
    "    doc.close()\n",
    "    return total_text_area / total_page_area"
   ]
  },
  {
   "cell_type": "code",
   "execution_count": null,
   "metadata": {},
   "outputs": [],
   "source": [
    "if __name__ == \"__main__\":\n",
    "    os.chdir(os.getcwd())\n",
    "    os.chdir(path)\n",
    "    pdfs = []\n",
    "    for file in glob.glob(\"*.pdf\"):\n",
    "        text_perc = get_text_percentage(file)\n",
    "        print(text_perc)\n",
    "        if text_perc < 0.5:\n",
    "            print(\"fully scanned PDF - no relevant text\")\n",
    "        else:\n",
    "            print(\"not fully scanned PDF - text is present\")\n",
    "            pdfs.append(file)\n",
    "        \n",
    "    print(pdfs)"
   ]
  },
  {
   "cell_type": "code",
   "execution_count": 5,
   "metadata": {},
   "outputs": [],
   "source": [
    "if __name__ == \"__main__\":\n",
    "    os.chdir(path)\n",
    "    pdfs = []\n",
    "    doc_name = []\n",
    "    doc_type = []\n",
    "    for file in glob.glob(\"*.pdf\"):\n",
    "        try:\n",
    "            extracted_text = ''.join([page.get_text() for page in fitz.open(file)])\n",
    "            if extracted_text:\n",
    "                doc_name.append(file)\n",
    "                doc_type.append(\"text\")\n",
    "            else:\n",
    "                doc_name.append(file)\n",
    "                doc_type.append(\"scan\")\n",
    "        except:\n",
    "            doc_name.append(file)\n",
    "            doc_type.append(\"broken\")\n",
    "            pass\n",
    "    dict = {'name': doc_name, 'type': doc_type}\n",
    "    readable = pd.DataFrame(dict, index=None)\n",
    "    #print(readable)\n",
    "    os.chdir('..')"
   ]
  },
  {
   "cell_type": "code",
   "execution_count": 6,
   "metadata": {},
   "outputs": [
    {
     "data": {
      "text/html": [
       "<div>\n",
       "<style scoped>\n",
       "    .dataframe tbody tr th:only-of-type {\n",
       "        vertical-align: middle;\n",
       "    }\n",
       "\n",
       "    .dataframe tbody tr th {\n",
       "        vertical-align: top;\n",
       "    }\n",
       "\n",
       "    .dataframe thead th {\n",
       "        text-align: right;\n",
       "    }\n",
       "</style>\n",
       "<table border=\"1\" class=\"dataframe\">\n",
       "  <thead>\n",
       "    <tr style=\"text-align: right;\">\n",
       "      <th></th>\n",
       "      <th>type</th>\n",
       "      <th>name</th>\n",
       "    </tr>\n",
       "  </thead>\n",
       "  <tbody>\n",
       "    <tr>\n",
       "      <th>0</th>\n",
       "      <td>broken</td>\n",
       "      <td>1</td>\n",
       "    </tr>\n",
       "    <tr>\n",
       "      <th>1</th>\n",
       "      <td>scan</td>\n",
       "      <td>566</td>\n",
       "    </tr>\n",
       "    <tr>\n",
       "      <th>2</th>\n",
       "      <td>text</td>\n",
       "      <td>1132</td>\n",
       "    </tr>\n",
       "  </tbody>\n",
       "</table>\n",
       "</div>"
      ],
      "text/plain": [
       "     type  name\n",
       "0  broken     1\n",
       "1    scan   566\n",
       "2    text  1132"
      ]
     },
     "execution_count": 6,
     "metadata": {},
     "output_type": "execute_result"
    }
   ],
   "source": [
    "readable.groupby(['type']).count().reset_index()"
   ]
  },
  {
   "cell_type": "code",
   "execution_count": 4,
   "metadata": {},
   "outputs": [
    {
     "data": {
      "text/plain": [
       "'c:\\\\Users\\\\lexua\\\\OneDrive\\\\Desktop\\\\Work\\\\DAEN 690\\\\Aviators\\\\Data'"
      ]
     },
     "execution_count": 4,
     "metadata": {},
     "output_type": "execute_result"
    }
   ],
   "source": [
    " "
   ]
  },
  {
   "cell_type": "code",
   "execution_count": null,
   "metadata": {},
   "outputs": [],
   "source": []
  }
 ],
 "metadata": {
  "kernelspec": {
   "display_name": "Python 3.7.13 ('Work')",
   "language": "python",
   "name": "python3"
  },
  "language_info": {
   "codemirror_mode": {
    "name": "ipython",
    "version": 3
   },
   "file_extension": ".py",
   "mimetype": "text/x-python",
   "name": "python",
   "nbconvert_exporter": "python",
   "pygments_lexer": "ipython3",
   "version": "3.7.13"
  },
  "orig_nbformat": 4,
  "vscode": {
   "interpreter": {
    "hash": "53b71b47c9bab3486227eaa97ebdf872123229d996d3ca12058fc8baff32c85f"
   }
  }
 },
 "nbformat": 4,
 "nbformat_minor": 2
}
