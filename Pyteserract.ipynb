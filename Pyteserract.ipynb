{
 "cells": [
  {
   "cell_type": "code",
   "execution_count": 1,
   "id": "9fffba3e",
   "metadata": {},
   "outputs": [
    {
     "name": "stdout",
     "output_type": "stream",
     "text": [
      "Collecting pdf2image\n",
      "  Downloading pdf2image-1.16.0-py3-none-any.whl (10 kB)\n",
      "Requirement already satisfied: pillow in ./Desktop/Anaconda/anaconda3/lib/python3.8/site-packages (from pdf2image) (9.2.0)\n",
      "Installing collected packages: pdf2image\n",
      "Successfully installed pdf2image-1.16.0\n",
      "Note: you may need to restart the kernel to use updated packages.\n"
     ]
    }
   ],
   "source": [
    "pip install pdf2image"
   ]
  },
  {
   "cell_type": "code",
   "execution_count": null,
   "id": "7f78aed5",
   "metadata": {},
   "outputs": [],
   "source": []
  },
  {
   "cell_type": "code",
   "execution_count": 5,
   "id": "0984102b",
   "metadata": {},
   "outputs": [],
   "source": [
    "from pdf2image import convert_from_path\n",
    "import pytesseract as tess"
   ]
  },
  {
   "cell_type": "code",
   "execution_count": 3,
   "id": "b76e74e9",
   "metadata": {},
   "outputs": [],
   "source": [
    "from pdf2image import convert_from_path\n",
    "\n",
    "pdfs = r\"/Users/sarojsiril/Desktop/DAEN 690/GMU-TCDS-COLAB-main/tcds/ATC 627.pdf\"\n",
    "pages = convert_from_path(pdfs, 350)\n",
    "\n",
    "i = 1\n",
    "for page in pages:\n",
    "    image_name = \"Page_\" + str(i) + \".jpg\"  \n",
    "    page.save(image_name, \"JPEG\")\n",
    "    i = i+1"
   ]
  },
  {
   "cell_type": "code",
   "execution_count": 16,
   "id": "1b42ab59",
   "metadata": {},
   "outputs": [],
   "source": [
    "import cv2\n",
    "from PIL import Image\n",
    "\n",
    "def mark_region(imagE_path):\n",
    "    \n",
    "    im = cv2.imread('/Users/sarojsiril/Desktop/DAEN 690/Scanned/Page_1.jpg')\n",
    "\n",
    "    gray = cv2.cvtColor(im, cv2.COLOR_BGR2GRAY)\n",
    "    blur = cv2.GaussianBlur(gray, (9,9), 0)\n",
    "    thresh = cv2.adaptiveThreshold(blur,255,cv2.ADAPTIVE_THRESH_GAUSSIAN_C, cv2.THRESH_BINARY_INV,11,30)\n",
    "\n",
    "    # Dilate to combine adjacent text contours\n",
    "    kernel = cv2.getStructuringElement(cv2.MORPH_RECT, (9,9))\n",
    "    dilate = cv2.dilate(thresh, kernel, iterations=4)\n",
    "\n",
    "    # Find contours, highlight text areas, and extract ROIs\n",
    "    cnts = cv2.findContours(dilate, cv2.RETR_EXTERNAL, cv2.CHAIN_APPROX_SIMPLE)\n",
    "    cnts = cnts[0] if len(cnts) == 2 else cnts[1]\n",
    "\n",
    "    line_items_coordinates = []\n",
    "    for c in cnts:\n",
    "        area = cv2.contourArea(c)\n",
    "        x,y,w,h = cv2.boundingRect(c)\n",
    "\n",
    "        if y >= 600 and x <= 1000:\n",
    "            if area > 10000:\n",
    "                image = cv2.rectangle(im, (x,y), (2200, y+h), color=(255,0,255), thickness=3)\n",
    "                line_items_coordinates.append([(x,y), (2200, y+h)])\n",
    "\n",
    "        if y >= 2400 and x<= 2000:\n",
    "            image = cv2.rectangle(im, (x,y), (2200, y+h), color=(255,0,255), thickness=3)\n",
    "            line_items_coordinates.append([(x,y), (2200, y+h)])\n",
    "\n",
    "\n",
    "    return image, line_items_coordinates\n"
   ]
  },
  {
   "cell_type": "code",
   "execution_count": 17,
   "id": "a97a3a85",
   "metadata": {},
   "outputs": [
    {
     "ename": "NameError",
     "evalue": "name 'line_items_coordinates' is not defined",
     "output_type": "error",
     "traceback": [
      "\u001b[0;31m---------------------------------------------------------------------------\u001b[0m",
      "\u001b[0;31mNameError\u001b[0m                                 Traceback (most recent call last)",
      "\u001b[0;32m<ipython-input-17-d8f9396ff96d>\u001b[0m in \u001b[0;36m<module>\u001b[0;34m\u001b[0m\n\u001b[1;32m      5\u001b[0m \u001b[0;34m\u001b[0m\u001b[0m\n\u001b[1;32m      6\u001b[0m \u001b[0;31m# get co-ordinates to crop the image\u001b[0m\u001b[0;34m\u001b[0m\u001b[0;34m\u001b[0m\u001b[0;34m\u001b[0m\u001b[0m\n\u001b[0;32m----> 7\u001b[0;31m \u001b[0mc\u001b[0m \u001b[0;34m=\u001b[0m \u001b[0mline_items_coordinates\u001b[0m\u001b[0;34m[\u001b[0m\u001b[0;36m1\u001b[0m\u001b[0;34m]\u001b[0m\u001b[0;34m\u001b[0m\u001b[0;34m\u001b[0m\u001b[0m\n\u001b[0m\u001b[1;32m      8\u001b[0m \u001b[0;34m\u001b[0m\u001b[0m\n\u001b[1;32m      9\u001b[0m \u001b[0;31m# cropping image img = image[y0:y1, x0:x1]\u001b[0m\u001b[0;34m\u001b[0m\u001b[0;34m\u001b[0m\u001b[0;34m\u001b[0m\u001b[0m\n",
      "\u001b[0;31mNameError\u001b[0m: name 'line_items_coordinates' is not defined"
     ]
    }
   ],
   "source": [
    "import pytesseract\n",
    "\n",
    "# load the original image\n",
    "image = cv2.imread('/Users/sarojsiril/Desktop/DAEN 690/Scanned/Page_1.jpg')\n",
    "\n",
    "# get co-ordinates to crop the image\n",
    "c = line_items_coordinates[1]\n",
    "\n",
    "# cropping image img = image[y0:y1, x0:x1]\n",
    "img = image[c[0][1]:c[1][1], c[0][0]:c[1][0]]    \n",
    "\n",
    "plt.figure(figsize=(10,10))\n",
    "plt.imshow(img)\n",
    "\n",
    "# convert the image to black and white for better OCR\n",
    "ret,thresh1 = cv2.threshold(img,120,255,cv2.THRESH_BINARY)\n",
    "\n",
    "# pytesseract image to string to get results\n",
    "text = str(pytesseract.image_to_string(thresh1, config='--psm 6'))\n",
    "print(text)"
   ]
  },
  {
   "cell_type": "code",
   "execution_count": null,
   "id": "db54c2aa",
   "metadata": {},
   "outputs": [],
   "source": [
    "from PIL import Image\n",
    "\n",
    "import pytesseract\n",
    "\n",
    "pytesseract.pytesseract.tesseract_cmd = r'C:\\Users\\sarojsiril\\AppData\\Local\\Tesseract-OCR\\tesseract.exe'\n",
    "\n",
    "path = r'Page_1.jpg'\n",
    "\n",
    "print(pytesseract.image_to_string(Image.open(path)))"
   ]
  },
  {
   "cell_type": "code",
   "execution_count": null,
   "id": "9d161787",
   "metadata": {},
   "outputs": [],
   "source": []
  }
 ],
 "metadata": {
  "kernelspec": {
   "display_name": "Python 3",
   "language": "python",
   "name": "python3"
  },
  "language_info": {
   "codemirror_mode": {
    "name": "ipython",
    "version": 3
   },
   "file_extension": ".py",
   "mimetype": "text/x-python",
   "name": "python",
   "nbconvert_exporter": "python",
   "pygments_lexer": "ipython3",
   "version": "3.8.8"
  }
 },
 "nbformat": 4,
 "nbformat_minor": 5
}
