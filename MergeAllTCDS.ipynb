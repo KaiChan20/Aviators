{
 "cells": [
  {
   "cell_type": "code",
   "execution_count": 1,
   "id": "ebe6af4a",
   "metadata": {},
   "outputs": [],
   "source": [
    "from os import listdir,mkdir\n",
    "from os.path import isfile, join,exists\n",
    "from PyPDF2 import PdfFileMerger"
   ]
  },
  {
   "cell_type": "code",
   "execution_count": 2,
   "id": "b16c34ed",
   "metadata": {},
   "outputs": [
    {
     "name": "stdout",
     "output_type": "stream",
     "text": [
      "Enter the folder location: /Users/poth/Downloads/PDF\n",
      "\n",
      "List of PDF Files:\n",
      "\n",
      "A00009CH_data.pdf\n",
      "A15CE_Rev45_data.pdf\n",
      "3A23_data.pdf\n",
      "A21EA-1_data.pdf\n",
      "A56NM_data.pdf\n",
      "A16WE_data.pdf\n",
      "A10CE_Rev_67_data.pdf\n",
      "2A13_data.pdf\n",
      "A12EA_data.pdf\n",
      "A78EU_data.pdf\n",
      "H2SW_data.pdf\n",
      "T00003NY_data.pdf\n",
      "A1NM_data.pdf\n",
      "A3SO_data.pdf\n",
      "2A3_data.pdf\n",
      "3A12_data.pdf\n",
      "3A13_data.pdf\n"
     ]
    }
   ],
   "source": [
    "path = input(\"Enter the folder location: \")\n",
    "pdffiles = [f for f in listdir(path) if isfile(join(path, f)) and '.pdf' in f]\n",
    "print('\\nList of PDF Files:\\n')\n",
    "for file in pdffiles:\n",
    "    print(file)"
   ]
  },
  {
   "cell_type": "code",
   "execution_count": 3,
   "id": "c3f7435f",
   "metadata": {},
   "outputs": [
    {
     "name": "stdout",
     "output_type": "stream",
     "text": [
      "\n",
      "Enter the name of the result file : MergeTCDS\n"
     ]
    }
   ],
   "source": [
    "resultFile = input(\"\\nEnter the name of the result file : \")\n",
    "if '.pdf' not in resultFile:\n",
    "    resultFile += '.pdf'"
   ]
  },
  {
   "cell_type": "code",
   "execution_count": 5,
   "id": "b932f157",
   "metadata": {},
   "outputs": [],
   "source": [
    "merger = PdfFileMerger()\n",
    "for pdf in pdffiles:\n",
    "    merger.append(path+'/'+pdf)"
   ]
  },
  {
   "cell_type": "code",
   "execution_count": 7,
   "id": "b5760173",
   "metadata": {},
   "outputs": [],
   "source": [
    "if not exists(path+'/Output'):\n",
    "    mkdir(path+'/Output')\n",
    "merger.write(path+'/Output/'+resultFile)\n",
    "merger.close()"
   ]
  },
  {
   "cell_type": "code",
   "execution_count": null,
   "id": "c00854bc",
   "metadata": {},
   "outputs": [],
   "source": []
  }
 ],
 "metadata": {
  "kernelspec": {
   "display_name": "Python 3",
   "language": "python",
   "name": "python3"
  },
  "language_info": {
   "codemirror_mode": {
    "name": "ipython",
    "version": 3
   },
   "file_extension": ".py",
   "mimetype": "text/x-python",
   "name": "python",
   "nbconvert_exporter": "python",
   "pygments_lexer": "ipython3",
   "version": "3.6.13"
  }
 },
 "nbformat": 4,
 "nbformat_minor": 5
}
